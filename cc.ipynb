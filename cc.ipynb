{
 "cells": [
  {
   "cell_type": "code",
   "execution_count": 1,
   "metadata": {},
   "outputs": [
    {
     "name": "stderr",
     "output_type": "stream",
     "text": [
      "2024-10-08 15:56:12.934657: I tensorflow/core/platform/cpu_feature_guard.cc:182] This TensorFlow binary is optimized to use available CPU instructions in performance-critical operations.\n",
      "To enable the following instructions: AVX2 FMA, in other operations, rebuild TensorFlow with the appropriate compiler flags.\n",
      "2024-10-08 15:56:13.670284: W tensorflow/compiler/tf2tensorrt/utils/py_utils.cc:38] TF-TRT Warning: Could not find TensorRT\n"
     ]
    }
   ],
   "source": [
    "import pandas as pd\n",
    "import numpy as np\n",
    "import seaborn as sns\n",
    "import matplotlib.pyplot as plt\n",
    "import re\n",
    "from tensorflow import keras\n",
    "from tensorflow.python.keras.models import load_model\n",
    "from nltk.stem.porter import PorterStemmer\n",
    "from nltk.corpus import stopwords\n",
    "from keras.src.legacy.preprocessing.text import one_hot\n",
    "from keras.preprocessing.sequence import pad_sequences\n",
    "from sklearn.preprocessing import LabelEncoder\n",
    "from keras.layers import Embedding,LSTM,Dense,Dropout\n",
    "from keras.models import Sequential\n",
    "from keras.utils import to_categorical"
   ]
  },
  {
   "cell_type": "code",
   "execution_count": 2,
   "metadata": {},
   "outputs": [
    {
     "name": "stderr",
     "output_type": "stream",
     "text": [
      "2024-10-08 15:56:17.946439: I tensorflow/compiler/xla/stream_executor/cuda/cuda_gpu_executor.cc:995] successful NUMA node read from SysFS had negative value (-1), but there must be at least one NUMA node, so returning NUMA node zero. See more at https://github.com/torvalds/linux/blob/v6.0/Documentation/ABI/testing/sysfs-bus-pci#L344-L355\n",
      "2024-10-08 15:56:17.971684: I tensorflow/compiler/xla/stream_executor/cuda/cuda_gpu_executor.cc:995] successful NUMA node read from SysFS had negative value (-1), but there must be at least one NUMA node, so returning NUMA node zero. See more at https://github.com/torvalds/linux/blob/v6.0/Documentation/ABI/testing/sysfs-bus-pci#L344-L355\n",
      "2024-10-08 15:56:17.974535: I tensorflow/compiler/xla/stream_executor/cuda/cuda_gpu_executor.cc:995] successful NUMA node read from SysFS had negative value (-1), but there must be at least one NUMA node, so returning NUMA node zero. See more at https://github.com/torvalds/linux/blob/v6.0/Documentation/ABI/testing/sysfs-bus-pci#L344-L355\n",
      "2024-10-08 15:56:17.977874: I tensorflow/compiler/xla/stream_executor/cuda/cuda_gpu_executor.cc:995] successful NUMA node read from SysFS had negative value (-1), but there must be at least one NUMA node, so returning NUMA node zero. See more at https://github.com/torvalds/linux/blob/v6.0/Documentation/ABI/testing/sysfs-bus-pci#L344-L355\n",
      "2024-10-08 15:56:17.980705: I tensorflow/compiler/xla/stream_executor/cuda/cuda_gpu_executor.cc:995] successful NUMA node read from SysFS had negative value (-1), but there must be at least one NUMA node, so returning NUMA node zero. See more at https://github.com/torvalds/linux/blob/v6.0/Documentation/ABI/testing/sysfs-bus-pci#L344-L355\n",
      "2024-10-08 15:56:17.983392: I tensorflow/compiler/xla/stream_executor/cuda/cuda_gpu_executor.cc:995] successful NUMA node read from SysFS had negative value (-1), but there must be at least one NUMA node, so returning NUMA node zero. See more at https://github.com/torvalds/linux/blob/v6.0/Documentation/ABI/testing/sysfs-bus-pci#L344-L355\n",
      "2024-10-08 15:56:18.154304: I tensorflow/compiler/xla/stream_executor/cuda/cuda_gpu_executor.cc:995] successful NUMA node read from SysFS had negative value (-1), but there must be at least one NUMA node, so returning NUMA node zero. See more at https://github.com/torvalds/linux/blob/v6.0/Documentation/ABI/testing/sysfs-bus-pci#L344-L355\n",
      "2024-10-08 15:56:18.156274: I tensorflow/compiler/xla/stream_executor/cuda/cuda_gpu_executor.cc:995] successful NUMA node read from SysFS had negative value (-1), but there must be at least one NUMA node, so returning NUMA node zero. See more at https://github.com/torvalds/linux/blob/v6.0/Documentation/ABI/testing/sysfs-bus-pci#L344-L355\n",
      "2024-10-08 15:56:18.158073: I tensorflow/compiler/xla/stream_executor/cuda/cuda_gpu_executor.cc:995] successful NUMA node read from SysFS had negative value (-1), but there must be at least one NUMA node, so returning NUMA node zero. See more at https://github.com/torvalds/linux/blob/v6.0/Documentation/ABI/testing/sysfs-bus-pci#L344-L355\n",
      "2024-10-08 15:56:18.159774: I tensorflow/core/common_runtime/gpu/gpu_device.cc:1639] Created device /job:localhost/replica:0/task:0/device:GPU:0 with 2612 MB memory:  -> device: 0, name: NVIDIA GeForce GTX 1650 with Max-Q Design, pci bus id: 0000:02:00.0, compute capability: 7.5\n"
     ]
    }
   ],
   "source": [
    "model = load_model('model.h5')"
   ]
  },
  {
   "cell_type": "code",
   "execution_count": 3,
   "metadata": {},
   "outputs": [],
   "source": [
    "ps = PorterStemmer()\n",
    "dict_size = 5000"
   ]
  },
  {
   "cell_type": "code",
   "execution_count": 7,
   "metadata": {},
   "outputs": [
    {
     "name": "stdout",
     "output_type": "stream",
     "text": [
      "[[9.2130971e-01 7.4869275e-02 9.0735004e-04 2.9136417e-03]] Business\n"
     ]
    }
   ],
   "source": [
    "# test thử.np_utils\n",
    "txt = [\"Regular fast food eating linked to fertility issues in women.\"]\n",
    "\n",
    "# tiền xử lí dữ liệu\n",
    "cleaned = []\n",
    "for i in range(0,len(txt)):\n",
    "    msg = re.sub('[^a-zA-Z]',' ',txt[i])\n",
    "    msg = msg.lower()\n",
    "    msg = msg.split()\n",
    "    msg = [ps.stem(words) for words in msg if not words in set(stopwords.words('english'))]\n",
    "    msg = ' '.join(msg)\n",
    "    cleaned.append(msg)\n",
    "\n",
    "one_hot_mat = [one_hot(words,dict_size) for words in cleaned]\n",
    "embedded_layer = pad_sequences(one_hot_mat,padding = 'pre',maxlen = 201)\n",
    "embedded_layer\n",
    "\n",
    "# predict\n",
    "pred = model.predict(embedded_layer)\n",
    "cat = ['Business','Science','Entertainment','Health']\n",
    "print(pred, cat[np.argmax(pred)])"
   ]
  },
  {
   "cell_type": "code",
   "execution_count": 11,
   "metadata": {},
   "outputs": [
    {
     "name": "stdout",
     "output_type": "stream",
     "text": [
      "Testing /list_label endpoint:\n",
      "Labels: ['Business', 'Science', 'Entertainment', 'Health']\n",
      "\n",
      "Testing /classify endpoint with text 'I love this product!':\n",
      "Input Text: I love this product!\n",
      "Predicted Label: Science\n",
      "Probability: 0.7794768810272217\n",
      "\n",
      "Testing /classify endpoint with text 'This is terrible.':\n",
      "Input Text: This is terrible.\n",
      "Predicted Label: Science\n",
      "Probability: 0.37550053000450134\n"
     ]
    }
   ],
   "source": [
    "import requests\n",
    "import json\n",
    "\n",
    "# Base URL of the API\n",
    "BASE_URL = 'http://localhost:2005'\n",
    "\n",
    "# Function to test /list_label endpoint (GET request)\n",
    "def test_list_labels():\n",
    "    url = f\"{BASE_URL}/list_label\"\n",
    "    response = requests.get(url)\n",
    "    \n",
    "    if response.status_code == 200:\n",
    "        labels = response.json().get('labels', [])\n",
    "        print(f\"Labels: {labels}\")\n",
    "    else:\n",
    "        print(f\"Failed to list labels. Status code: {response.status_code}\")\n",
    "\n",
    "# Function to test /classify endpoint (POST request)\n",
    "def test_classify_text(input_text):\n",
    "    url = f\"{BASE_URL}/classify\"\n",
    "    headers = {'Content-Type': 'application/json'}\n",
    "    data = {\"text\": input_text}\n",
    "    \n",
    "    response = requests.post(url, headers=headers, data=json.dumps(data))\n",
    "    \n",
    "    if response.status_code == 200:\n",
    "        result = response.json()\n",
    "        print(f\"Input Text: {result['text']}\")\n",
    "        print(f\"Predicted Label: {result['predicted_label']}\")\n",
    "        print(f\"Probability: {result['prob']}\")\n",
    "    else:\n",
    "        print(f\"Failed to classify text. Status code: {response.status_code}\")\n",
    "\n",
    "# Run the test functions\n",
    "if __name__ == '__main__':\n",
    "    print(\"Testing /list_label endpoint:\")\n",
    "    test_list_labels()\n",
    "    \n",
    "    print(\"\\nTesting /classify endpoint with text 'I love this product!':\")\n",
    "    test_classify_text(\"I love this product!\")\n",
    "    \n",
    "    print(\"\\nTesting /classify endpoint with text 'This is terrible.':\")\n",
    "    test_classify_text(\"This is terrible.\")\n"
   ]
  },
  {
   "cell_type": "markdown",
   "metadata": {},
   "source": [
    "# Tools and Resources\n",
    "OS: Ubuntu 22.04\n",
    "\n",
    "Framework:\n",
    "- Tensorflow 2.13.1\n",
    "- NLTK\n",
    "- Flask\n",
    "\n",
    "Dataset: [News Aggregator Data Set](https://archive.ics.uci.edu/ml/datasets/News+Aggregator)\n",
    "\n",
    "# Contribution\n",
    "## Training model\n",
    "Check out `training_notebook.ipynb` to see the preprocessing method and the architecture of model\n",
    "\n",
    "## Run Flask server\n",
    "Run app at `http://localhost:2005`:\n",
    "```bash\n",
    "python3 app.py\n",
    "```\n",
    "\n",
    "Test application:\n",
    "```bash\n",
    "python3 test_app.py\n",
    "```\n",
    "\n",
    "Results:\n",
    "```bash\n",
    "Testing /list_label endpoint:\n",
    "Labels: ['Business', 'Science', 'Entertainment', 'Health']\n",
    "\n",
    "Testing /classify endpoint with text 'I love this product!':\n",
    "Input Text: An apple a day keeps doctor away.\n",
    "Predicted Label: Health\n",
    "Probability: 0.40282243490219116\n",
    "```"
   ]
  }
 ],
 "metadata": {
  "kernelspec": {
   "display_name": "Python 3",
   "language": "python",
   "name": "python3"
  },
  "language_info": {
   "codemirror_mode": {
    "name": "ipython",
    "version": 3
   },
   "file_extension": ".py",
   "mimetype": "text/x-python",
   "name": "python",
   "nbconvert_exporter": "python",
   "pygments_lexer": "ipython3",
   "version": "3.10.12"
  }
 },
 "nbformat": 4,
 "nbformat_minor": 2
}
